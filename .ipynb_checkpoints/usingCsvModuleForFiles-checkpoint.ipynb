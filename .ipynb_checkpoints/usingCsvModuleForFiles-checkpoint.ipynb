{
 "cells": [
  {
   "cell_type": "markdown",
   "metadata": {},
   "source": [
    "# Using the CSV module for file I/O\n",
    "\n",
    "Python's **csv** module allows you to easily work with **comma separated values** in files\n",
    "\n",
    "CSV files are used to store a large number of variables – or data. They are incredibly simplified spreadsheets – think Excel – only the content is stored in plaintext.\n",
    "\n",
    "And the CSV module is a built-in function that allows Python to parse these types of files.\n",
    "\n",
    "\n",
    "[more info here](http://www.pythonforbeginners.com/systems-programming/using-the-csv-module-in-python/)\n",
    "\n",
    "\n"
   ]
  },
  {
   "cell_type": "markdown",
   "metadata": {},
   "source": [
    "# A csv file\n",
    "\n",
    "The file this sample notebook works with is called **students.csv**\n",
    "\n",
    "Remember the file needs to be in the same folder as the python program in order to access it.\n",
    "\n",
    "You should always use a try/except block around file I/O as missing files or incorrectly named files will result in your program crashing (```  FileNotFound ``` exception) \n",
    "\n",
    "The file looks like this:\n",
    "```\n",
    "Fred,23,34,56\n",
    "Joe,99,45,56\n",
    "Jane,65,34,57\n",
    "Gigi,77,99,12\n",
    "Karla,76,84,45\n",
    "```"
   ]
  },
  {
   "cell_type": "code",
   "execution_count": 3,
   "metadata": {},
   "outputs": [
    {
     "name": "stdout",
     "output_type": "stream",
     "text": [
      "[['Fred', '23', '34', '56'], ['Joe', '99', '45', '56'], ['Jane', '65', '34', '57'], ['Gigi', '77', '99', '12'], ['Karla', '76', '84', '45']]\n"
     ]
    }
   ],
   "source": [
    "#import the csv module\n",
    "import csv\n",
    "\n",
    "#functions\n",
    "\n",
    "#This function opens the file for reading and reads the file contents into a List of list of Strings. \n",
    "#This list is returned to the calling program\n",
    "def openFileRead():\n",
    "    \n",
    "    dataList = []\n",
    "    \n",
    "    try:\n",
    "        \n",
    "        with open(\"students.csv\") as f:\n",
    "            \n",
    "            reader = csv.reader(f) \n",
    "            \n",
    "            for line in reader:\n",
    "                \n",
    "                dataList.append(line)\n",
    "        \n",
    "        \n",
    "    except FileNotFoundError:\n",
    "        \n",
    "        print(\"File not found!! \")\n",
    "    \n",
    "    \n",
    "    return dataList\n",
    "\n",
    "\n",
    "#main program\n",
    "\n",
    "studentDataList = openFileRead()\n",
    "print(studentDataList)"
   ]
  },
  {
   "cell_type": "code",
   "execution_count": 4,
   "metadata": {},
   "outputs": [
    {
     "name": "stdout",
     "output_type": "stream",
     "text": [
      "Name\tMaths\tEng\tSci\n",
      "========================================\n",
      "Fred\t23\t34\t56\t\n",
      "Joe\t99\t45\t56\t\n",
      "Jane\t65\t34\t57\t\n",
      "Gigi\t77\t99\t12\t\n",
      "Karla\t76\t84\t45\t\n"
     ]
    }
   ],
   "source": [
    "# this function takes as its parameters a list of list (of strings) \n",
    "# and a heading (as a string)\n",
    "# and prints the data in a user friendly table\n",
    "def printData(dataList, headings):\n",
    "    \n",
    "    print(headings)\n",
    "    print (\"=\"*40)\n",
    "    for i in range(len(dataList)):\n",
    "        for j in range(len(dataList[i])):\n",
    "            print(dataList[i][j], end=\"\\t\")\n",
    "        print()\n",
    "        \n",
    "printData(studentDataList, \"Name\\tMaths\\tEng\\tSci\")"
   ]
  },
  {
   "cell_type": "code",
   "execution_count": 29,
   "metadata": {},
   "outputs": [
    {
     "name": "stdout",
     "output_type": "stream",
     "text": [
      "[['Fred', '23', '34', '56', 75.66666666666667], ['Joe', '99', '45', '56', 162.66666666666666], ['Jane', '65', '34', '57', 118.0], ['Gigi', '77', '99', '12', 180.0], ['Karla', '76', '84', '45', 175.0]]\n"
     ]
    }
   ],
   "source": [
    "#this function takes a list of lists (of strings) and calculates the students average grade\n",
    "#this new data is stored in a new list of lists which is returned to the calling function\n",
    "def calulateAve(dataList):\n",
    "    \n",
    "    newDataList=[]\n",
    "    \n",
    "    for i in range(len(dataList)):\n",
    "        newItem= []\n",
    "        newItem.extend(dataList[i])\n",
    "        ave = int(dataList[i][1]) + int(dataList[i][2]) + int(dataList[i][3])/3\n",
    "        newItem.append(ave)\n",
    "        newDataList.append(newItem)\n",
    "            \n",
    "    return newDataList\n",
    "\n",
    "aveStudentData = calulateAve(studentDataList)\n",
    "print(aveStudentData) "
   ]
  },
  {
   "cell_type": "code",
   "execution_count": 30,
   "metadata": {},
   "outputs": [
    {
     "name": "stdout",
     "output_type": "stream",
     "text": [
      "Name\tMaths\tEng\tSci\tAve\n",
      "========================================\n",
      "Fred\t23\t34\t56\t75.66666666666667\t\n",
      "Joe\t99\t45\t56\t162.66666666666666\t\n",
      "Jane\t65\t34\t57\t118.0\t\n",
      "Gigi\t77\t99\t12\t180.0\t\n",
      "Karla\t76\t84\t45\t175.0\t\n"
     ]
    }
   ],
   "source": [
    "# now print this new list out nicely\n",
    "\n",
    "printData(aveStudentData, \"Name\\tMaths\\tEng\\tSci\\tAve\")"
   ]
  },
  {
   "cell_type": "code",
   "execution_count": 32,
   "metadata": {},
   "outputs": [],
   "source": [
    "#this function writes a list of lists to a file (as a csv)\n",
    "def write2DListDataToFile(twoDList):\n",
    "    \n",
    "    with open(\"NewDataFile.csv\",\"w\") as f:\n",
    "        \n",
    "        writer = csv.writer(f)\n",
    "        \n",
    "        writer.writerows(twoDList)\n",
    "\n",
    "write2DListDataToFile(aveStudentData) \n",
    "# now go a find the file that has been created in your folder"
   ]
  }
 ],
 "metadata": {
  "kernelspec": {
   "display_name": "Python 3",
   "language": "python",
   "name": "python3"
  },
  "language_info": {
   "codemirror_mode": {
    "name": "ipython",
    "version": 3
   },
   "file_extension": ".py",
   "mimetype": "text/x-python",
   "name": "python",
   "nbconvert_exporter": "python",
   "pygments_lexer": "ipython3",
   "version": "3.5.2"
  }
 },
 "nbformat": 4,
 "nbformat_minor": 2
}
